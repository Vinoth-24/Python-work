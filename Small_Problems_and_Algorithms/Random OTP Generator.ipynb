{
 "cells": [
  {
   "cell_type": "code",
   "execution_count": 13,
   "metadata": {},
   "outputs": [
    {
     "name": "stdout",
     "output_type": "stream",
     "text": [
      "Your OTP is: 528250\n"
     ]
    }
   ],
   "source": [
    "## importing modules\n",
    "import random\n",
    "import math\n",
    "\n",
    "## storing strings in a list\n",
    "digits = [i for i in range(0, 10)]\n",
    "\n",
    "## initializing a string\n",
    "random_str = \"\"\n",
    "\n",
    "## we can generate any lenght of string we want\n",
    "for i in range(6):\n",
    "    ## generating a random index\n",
    "    ## if we multiply with 10 it will generate a number between 0 and 10 not including 10\n",
    "    ## multiply the random.random() with length of your base list or str\n",
    "    index = math.floor(random.random() * 10)\n",
    "\n",
    "    random_str += str(digits[index])\n",
    "## displaying the random string\n",
    "print(\"Your OTP is: %s\"%random_str)"
   ]
  }
 ],
 "metadata": {
  "kernelspec": {
   "display_name": "Python 3",
   "language": "python",
   "name": "python3"
  },
  "language_info": {
   "codemirror_mode": {
    "name": "ipython",
    "version": 3
   },
   "file_extension": ".py",
   "mimetype": "text/x-python",
   "name": "python",
   "nbconvert_exporter": "python",
   "pygments_lexer": "ipython3",
   "version": "3.8.5"
  }
 },
 "nbformat": 4,
 "nbformat_minor": 4
}
